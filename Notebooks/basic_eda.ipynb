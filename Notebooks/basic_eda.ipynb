{
 "cells": [
  {
   "cell_type": "code",
   "execution_count": 1,
   "id": "6f9d9c24",
   "metadata": {},
   "outputs": [],
   "source": [
    "import matplotlib.pyplot as plt\n",
    "import seaborn as sns\n",
    "import matplotlib\n",
    "import pandas as pd\n",
    "matplotlib.use(\"TkAgg\")\n"
   ]
  },
  {
   "cell_type": "code",
   "execution_count": 2,
   "id": "2d74f186",
   "metadata": {},
   "outputs": [],
   "source": [
    "# Load dataset\n",
    "df = pd.read_csv(\"/Users/udayrajsingh/Desktop/Projects/Uber Fraud Detection/Data/raw/raw_trip_data.csv\")\n",
    "\n"
   ]
  },
  {
   "cell_type": "code",
   "execution_count": 3,
   "id": "d5c012de",
   "metadata": {},
   "outputs": [],
   "source": [
    "# 1. Distance vs Fare\n",
    "plt.figure(figsize=(8,6))\n",
    "sns.scatterplot(data=df, x=\"distance_km\", y=\"fare_amount\", hue=\"fraud\", alpha=0.6)\n",
    "plt.title(\"Distance vs Fare (Fraud vs Legit)\")\n",
    "plt.show(block=True)"
   ]
  },
  {
   "cell_type": "code",
   "execution_count": 4,
   "id": "fd209073",
   "metadata": {},
   "outputs": [],
   "source": [
    "# 2. Fraud distribution\n",
    "sns.countplot(data=df, x=\"fraud\")\n",
    "plt.title(\"Fraud vs Legit Trips\")\n",
    "plt.show(block=True)"
   ]
  },
  {
   "cell_type": "code",
   "execution_count": 5,
   "id": "b199f589",
   "metadata": {},
   "outputs": [],
   "source": [
    "# 3. Device Reuse\n",
    "device_counts = df[\"device_id\"].value_counts().head(10)\n",
    "device_counts.plot(kind=\"bar\", title=\"Top Device Usage (Potential Fraud)\")\n",
    "plt.show(block=True)\n"
   ]
  },
  {
   "cell_type": "code",
   "execution_count": 6,
   "id": "8f686651",
   "metadata": {},
   "outputs": [
    {
     "name": "stdout",
     "output_type": "stream",
     "text": [
      "🚩 Suspicious Rider-Driver Pairs:\n",
      "              rider_id         driver_id  count\n",
      "10671  fraud_rider_123  fraud_driver_456    329\n"
     ]
    }
   ],
   "source": [
    "# 4. Rider–Driver Repeat Check\n",
    "pairs = df.groupby([\"rider_id\", \"driver_id\"]).size().reset_index(name=\"count\")\n",
    "fraud_pairs = pairs[pairs[\"count\"] > 5]\n",
    "print(\"🚩 Suspicious Rider-Driver Pairs:\")\n",
    "print(fraud_pairs.head())"
   ]
  },
  {
   "cell_type": "code",
   "execution_count": 7,
   "id": "dba63395",
   "metadata": {},
   "outputs": [
    {
     "data": {
      "text/plain": [
       "(11000, 12)"
      ]
     },
     "execution_count": 7,
     "metadata": {},
     "output_type": "execute_result"
    }
   ],
   "source": [
    "df.shape"
   ]
  },
  {
   "cell_type": "code",
   "execution_count": 8,
   "id": "d0bb3997",
   "metadata": {},
   "outputs": [
    {
     "name": "stdout",
     "output_type": "stream",
     "text": [
      "<class 'pandas.core.frame.DataFrame'>\n",
      "RangeIndex: 11000 entries, 0 to 10999\n",
      "Data columns (total 12 columns):\n",
      " #   Column       Non-Null Count  Dtype  \n",
      "---  ------       --------------  -----  \n",
      " 0   trip_id      11000 non-null  int64  \n",
      " 1   rider_id     11000 non-null  object \n",
      " 2   driver_id    11000 non-null  object \n",
      " 3   device_id    11000 non-null  object \n",
      " 4   pickup_lat   11000 non-null  float64\n",
      " 5   pickup_lon   11000 non-null  float64\n",
      " 6   drop_lat     11000 non-null  float64\n",
      " 7   drop_lon     11000 non-null  float64\n",
      " 8   distance_km  11000 non-null  float64\n",
      " 9   fare_amount  11000 non-null  float64\n",
      " 10  fraud        11000 non-null  int64  \n",
      " 11  fraud_type   11000 non-null  object \n",
      "dtypes: float64(6), int64(2), object(4)\n",
      "memory usage: 1.0+ MB\n"
     ]
    }
   ],
   "source": [
    "df.info()"
   ]
  },
  {
   "cell_type": "code",
   "execution_count": 9,
   "id": "47db1355",
   "metadata": {},
   "outputs": [
    {
     "data": {
      "text/plain": [
       "trip_id        0\n",
       "rider_id       0\n",
       "driver_id      0\n",
       "device_id      0\n",
       "pickup_lat     0\n",
       "pickup_lon     0\n",
       "drop_lat       0\n",
       "drop_lon       0\n",
       "distance_km    0\n",
       "fare_amount    0\n",
       "fraud          0\n",
       "fraud_type     0\n",
       "dtype: int64"
      ]
     },
     "execution_count": 9,
     "metadata": {},
     "output_type": "execute_result"
    }
   ],
   "source": [
    "df.isnull().sum(\n",
    "    \n",
    ")"
   ]
  },
  {
   "cell_type": "code",
   "execution_count": 10,
   "id": "8508fc92",
   "metadata": {},
   "outputs": [
    {
     "data": {
      "text/plain": [
       "trip_id        0\n",
       "rider_id       0\n",
       "driver_id      0\n",
       "device_id      0\n",
       "pickup_lat     0\n",
       "pickup_lon     0\n",
       "drop_lat       0\n",
       "drop_lon       0\n",
       "distance_km    0\n",
       "fare_amount    0\n",
       "fraud          0\n",
       "fraud_type     0\n",
       "dtype: int64"
      ]
     },
     "execution_count": 10,
     "metadata": {},
     "output_type": "execute_result"
    }
   ],
   "source": [
    "df.isnull().sum()"
   ]
  },
  {
   "cell_type": "code",
   "execution_count": 12,
   "id": "0b478458",
   "metadata": {},
   "outputs": [
    {
     "data": {
      "text/html": [
       "<div>\n",
       "<style scoped>\n",
       "    .dataframe tbody tr th:only-of-type {\n",
       "        vertical-align: middle;\n",
       "    }\n",
       "\n",
       "    .dataframe tbody tr th {\n",
       "        vertical-align: top;\n",
       "    }\n",
       "\n",
       "    .dataframe thead th {\n",
       "        text-align: right;\n",
       "    }\n",
       "</style>\n",
       "<table border=\"1\" class=\"dataframe\">\n",
       "  <thead>\n",
       "    <tr style=\"text-align: right;\">\n",
       "      <th></th>\n",
       "      <th>trip_id</th>\n",
       "      <th>pickup_lat</th>\n",
       "      <th>pickup_lon</th>\n",
       "      <th>drop_lat</th>\n",
       "      <th>drop_lon</th>\n",
       "      <th>distance_km</th>\n",
       "      <th>fare_amount</th>\n",
       "      <th>fraud</th>\n",
       "    </tr>\n",
       "  </thead>\n",
       "  <tbody>\n",
       "    <tr>\n",
       "      <th>count</th>\n",
       "      <td>11000.000000</td>\n",
       "      <td>11000.000000</td>\n",
       "      <td>11000.000000</td>\n",
       "      <td>11000.000000</td>\n",
       "      <td>11000.000000</td>\n",
       "      <td>11000.000000</td>\n",
       "      <td>11000.000000</td>\n",
       "      <td>11000.000000</td>\n",
       "    </tr>\n",
       "    <tr>\n",
       "      <th>mean</th>\n",
       "      <td>5500.500000</td>\n",
       "      <td>28.610864</td>\n",
       "      <td>77.230017</td>\n",
       "      <td>28.610701</td>\n",
       "      <td>77.229645</td>\n",
       "      <td>10.143355</td>\n",
       "      <td>118.604858</td>\n",
       "      <td>0.090909</td>\n",
       "    </tr>\n",
       "    <tr>\n",
       "      <th>std</th>\n",
       "      <td>3175.570815</td>\n",
       "      <td>0.058087</td>\n",
       "      <td>0.057745</td>\n",
       "      <td>0.057722</td>\n",
       "      <td>0.058012</td>\n",
       "      <td>5.254654</td>\n",
       "      <td>95.956992</td>\n",
       "      <td>0.287493</td>\n",
       "    </tr>\n",
       "    <tr>\n",
       "      <th>min</th>\n",
       "      <td>1.000000</td>\n",
       "      <td>28.510002</td>\n",
       "      <td>77.130022</td>\n",
       "      <td>28.510013</td>\n",
       "      <td>77.130018</td>\n",
       "      <td>0.030000</td>\n",
       "      <td>0.270000</td>\n",
       "      <td>0.000000</td>\n",
       "    </tr>\n",
       "    <tr>\n",
       "      <th>25%</th>\n",
       "      <td>2750.750000</td>\n",
       "      <td>28.560091</td>\n",
       "      <td>77.180338</td>\n",
       "      <td>28.561255</td>\n",
       "      <td>77.178656</td>\n",
       "      <td>6.150000</td>\n",
       "      <td>66.007500</td>\n",
       "      <td>0.000000</td>\n",
       "    </tr>\n",
       "    <tr>\n",
       "      <th>50%</th>\n",
       "      <td>5500.500000</td>\n",
       "      <td>28.610935</td>\n",
       "      <td>77.230168</td>\n",
       "      <td>28.609914</td>\n",
       "      <td>77.230067</td>\n",
       "      <td>10.050000</td>\n",
       "      <td>104.155000</td>\n",
       "      <td>0.000000</td>\n",
       "    </tr>\n",
       "    <tr>\n",
       "      <th>75%</th>\n",
       "      <td>8250.250000</td>\n",
       "      <td>28.661869</td>\n",
       "      <td>77.280004</td>\n",
       "      <td>28.660895</td>\n",
       "      <td>77.280097</td>\n",
       "      <td>14.040000</td>\n",
       "      <td>145.907500</td>\n",
       "      <td>0.000000</td>\n",
       "    </tr>\n",
       "    <tr>\n",
       "      <th>max</th>\n",
       "      <td>11000.000000</td>\n",
       "      <td>28.709965</td>\n",
       "      <td>77.329992</td>\n",
       "      <td>28.709998</td>\n",
       "      <td>77.329970</td>\n",
       "      <td>27.210000</td>\n",
       "      <td>798.480000</td>\n",
       "      <td>1.000000</td>\n",
       "    </tr>\n",
       "  </tbody>\n",
       "</table>\n",
       "</div>"
      ],
      "text/plain": [
       "            trip_id    pickup_lat    pickup_lon      drop_lat      drop_lon  \\\n",
       "count  11000.000000  11000.000000  11000.000000  11000.000000  11000.000000   \n",
       "mean    5500.500000     28.610864     77.230017     28.610701     77.229645   \n",
       "std     3175.570815      0.058087      0.057745      0.057722      0.058012   \n",
       "min        1.000000     28.510002     77.130022     28.510013     77.130018   \n",
       "25%     2750.750000     28.560091     77.180338     28.561255     77.178656   \n",
       "50%     5500.500000     28.610935     77.230168     28.609914     77.230067   \n",
       "75%     8250.250000     28.661869     77.280004     28.660895     77.280097   \n",
       "max    11000.000000     28.709965     77.329992     28.709998     77.329970   \n",
       "\n",
       "        distance_km   fare_amount         fraud  \n",
       "count  11000.000000  11000.000000  11000.000000  \n",
       "mean      10.143355    118.604858      0.090909  \n",
       "std        5.254654     95.956992      0.287493  \n",
       "min        0.030000      0.270000      0.000000  \n",
       "25%        6.150000     66.007500      0.000000  \n",
       "50%       10.050000    104.155000      0.000000  \n",
       "75%       14.040000    145.907500      0.000000  \n",
       "max       27.210000    798.480000      1.000000  "
      ]
     },
     "execution_count": 12,
     "metadata": {},
     "output_type": "execute_result"
    }
   ],
   "source": [
    "df.describe()"
   ]
  },
  {
   "cell_type": "code",
   "execution_count": 13,
   "id": "b3dfb6b7",
   "metadata": {},
   "outputs": [
    {
     "data": {
      "text/plain": [
       "11000"
      ]
     },
     "execution_count": 13,
     "metadata": {},
     "output_type": "execute_result"
    }
   ],
   "source": [
    "df['pickup_lat'].nunique()"
   ]
  },
  {
   "cell_type": "code",
   "execution_count": null,
   "id": "2d9cbed6",
   "metadata": {},
   "outputs": [],
   "source": []
  }
 ],
 "metadata": {
  "kernelspec": {
   "display_name": "uber_env",
   "language": "python",
   "name": "python3"
  },
  "language_info": {
   "codemirror_mode": {
    "name": "ipython",
    "version": 3
   },
   "file_extension": ".py",
   "mimetype": "text/x-python",
   "name": "python",
   "nbconvert_exporter": "python",
   "pygments_lexer": "ipython3",
   "version": "3.10.18"
  }
 },
 "nbformat": 4,
 "nbformat_minor": 5
}
